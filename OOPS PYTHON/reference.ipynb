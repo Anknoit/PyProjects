{
 "metadata": {
  "language_info": {
   "codemirror_mode": {
    "name": "ipython",
    "version": 3
   },
   "file_extension": ".py",
   "mimetype": "text/x-python",
   "name": "python",
   "nbconvert_exporter": "python",
   "pygments_lexer": "ipython3",
   "version": "3.9.1-final"
  },
  "orig_nbformat": 2,
  "kernelspec": {
   "name": "python391jvsc74a57bd0c58fcbfd17ff0ae16d8fff524d22de4f4915526417acbd1c77882c470011518a",
   "display_name": "Python 3.9.1 64-bit"
  }
 },
 "nbformat": 4,
 "nbformat_minor": 2,
 "cells": [
  {
   "source": [
    "# OOPS PYTHON\n",
    "Notes created by Ankit Jha\n",
    "<hr>"
   ],
   "cell_type": "markdown",
   "metadata": {}
  },
  {
   "source": [
    "1. Class methods must have an extra first parameter in the method definition. We do not give a value for this parameter when we call the method, Python provides it\n",
    "2. If we have a method that takes no arguments, then we still have to have one argument – the self. See fun() in the above simple example. \n",
    "3.The __init__ method \n",
    "    The __init__ method is similar to constructors in C++ and Java. It is run as soon as an object of a class is instantiated. The method is useful to do any initialization you want to do with your object. \n",
    "4. In Python, instance variables are variables whose value is assigned inside a constructor or method with self"
   ],
   "cell_type": "markdown",
   "metadata": {}
  },
  {
   "source": [
    "## Main principles of OOPS\n",
    "1. Class\n",
    "2. Object\n",
    "3. Method\n",
    "4. Inheritance\n",
    "5. Polymorphism\n",
    "6. Data Abstraction\n",
    "7. Encapsulation"
   ],
   "cell_type": "markdown",
   "metadata": {}
  },
  {
   "source": [
    "### 1. CLASS\n",
    "A class is collection of objects. It takes in attributes and has methods in it"
   ],
   "cell_type": "markdown",
   "metadata": {}
  },
  {
   "cell_type": "code",
   "execution_count": 3,
   "metadata": {},
   "outputs": [
    {
     "output_type": "stream",
     "name": "stdout",
     "text": [
      "Car Name:  Ferrari Car Price:  2cr\n"
     ]
    }
   ],
   "source": [
    "class car:\n",
    "    def __init__(self, model, price):\n",
    "        self.model = model\n",
    "        self.price = price\n",
    "    def display(self):\n",
    "        print(\"Car Name: \",self.model, \"Car Price: \", self.price)\n",
    "car_1 = car(\"Ferrari\", \"2cr\") #This process is called \"Instantiation\"\n",
    "car_1.display()"
   ]
  },
  {
   "source": [
    "Here \"model\"& \"price\" are attributes,\n",
    "\"car_1\" is object, \"display()\" is function"
   ],
   "cell_type": "markdown",
   "metadata": {}
  },
  {
   "source": [
    "<img src = \"img/oops.png\" height=\"400px\" width=\"800px\">"
   ],
   "cell_type": "markdown",
   "metadata": {}
  },
  {
   "source": [
    "<b><u>Understand with this example:</u><b><br>\n",
    "Suppose a class is a prototype of a building. A building contains all the details about the floor, rooms, doors, windows, etc. we can make as many buildings as we want, based on these details. Hence, the building can be seen as a class, and we can create as many objects of this class.\n",
    "\n",
    "On the other hand, the object is the instance of a class. The process of creating an object can be called <b><i><u>instantiation</u></i></b>(pronounced instansiashion)"
   ],
   "cell_type": "markdown",
   "metadata": {}
  },
  {
   "source": [
    "<b><u>What is self parameter anyway?</u></b><br>\n",
    "The self-parameter refers to the current instance of the class and accesses the class variables. We can use anything instead of self, but it must be the first parameter of any function which belongs to the class."
   ],
   "cell_type": "markdown",
   "metadata": {}
  },
  {
   "cell_type": "code",
   "execution_count": null,
   "metadata": {},
   "outputs": [],
   "source": [
    "Constructors"
   ]
  }
 ]
}