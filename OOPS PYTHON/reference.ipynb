{
 "metadata": {
  "language_info": {
   "codemirror_mode": {
    "name": "ipython",
    "version": 3
   },
   "file_extension": ".py",
   "mimetype": "text/x-python",
   "name": "python",
   "nbconvert_exporter": "python",
   "pygments_lexer": "ipython3",
   "version": 3
  },
  "orig_nbformat": 2
 },
 "nbformat": 4,
 "nbformat_minor": 2,
 "cells": [
  {
   "source": [
    "# OOPS PYTHON"
   ],
   "cell_type": "markdown",
   "metadata": {}
  },
  {
   "source": [
    "1. Class methods must have an extra first parameter in the method definition. We do not give a value for this parameter when we call the method, Python provides it\n",
    "2. If we have a method that takes no arguments, then we still have to have one argument – the self. See fun() in the above simple example. \n",
    "3.The __init__ method \n",
    "    The __init__ method is similar to constructors in C++ and Java. It is run as soon as an object of a class is instantiated. The method is useful to do any initialization you want to do with your object. \n",
    "4. In Python, instance variables are variables whose value is assigned inside a constructor or method with self"
   ],
   "cell_type": "markdown",
   "metadata": {}
  }
 ]
}